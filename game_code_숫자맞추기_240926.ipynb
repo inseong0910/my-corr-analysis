{
  "nbformat": 4,
  "nbformat_minor": 0,
  "metadata": {
    "colab": {
      "provenance": [],
      "authorship_tag": "ABX9TyMpXtALd3IXGl3WCy4Kzshs",
      "include_colab_link": true
    },
    "kernelspec": {
      "name": "python3",
      "display_name": "Python 3"
    },
    "language_info": {
      "name": "python"
    }
  },
  "cells": [
    {
      "cell_type": "markdown",
      "metadata": {
        "id": "view-in-github",
        "colab_type": "text"
      },
      "source": [
        "<a href=\"https://colab.research.google.com/github/inseong0910/my_any_analysis/blob/main/game_code_%EC%88%AB%EC%9E%90%EB%A7%9E%EC%B6%94%EA%B8%B0_240926.ipynb\" target=\"_parent\"><img src=\"https://colab.research.google.com/assets/colab-badge.svg\" alt=\"Open In Colab\"/></a>"
      ]
    },
    {
      "cell_type": "markdown",
      "source": [
        "숫자맞추기 게임 파이썬 코드\n",
        "- 작성일 : 2024.9.26.\n",
        "- 작성자 : 황인성"
      ],
      "metadata": {
        "id": "ezLaqXiOLsrM"
      }
    },
    {
      "cell_type": "code",
      "source": [
        "# 1. random 함수 준비\n",
        "import random\n",
        "number = random.randint(1, 100)"
      ],
      "metadata": {
        "id": "DzR7G30nLrg-"
      },
      "execution_count": 1,
      "outputs": []
    },
    {
      "cell_type": "code",
      "source": [
        "# 2. 함수 선언\n",
        "# 숫자를 맞힐 때까지 계속 입력해야 함\n",
        "def guess_game():\n",
        "    number = random.randint(1, 100)\n",
        "\n",
        "    while True:\n",
        "        try:\n",
        "            guess = int(input('숫자를 맞추세요 (1 ~ 100): '))\n",
        "\n",
        "            if number == guess:\n",
        "                print('맞았습니다.')\n",
        "                break\n",
        "            elif guess < 1 or guess > 100:\n",
        "                print('1부터 100까지의 정수 중 하나를 입력하세요.')\n",
        "            elif number > guess:\n",
        "                print('틀렸습니다. 더 큰 숫자 입니다.')\n",
        "            else:\n",
        "                print('틀렸습니다. 더 작은 숫자 입니다.')\n",
        "\n",
        "        except ValueError:\n",
        "            print('잘못된 값을 입력했습니다.')"
      ],
      "metadata": {
        "id": "U-7mDyRtLrrj"
      },
      "execution_count": 2,
      "outputs": []
    },
    {
      "cell_type": "code",
      "source": [
        "# 3. 숫자 입력\n",
        "guess_game()"
      ],
      "metadata": {
        "colab": {
          "base_uri": "https://localhost:8080/"
        },
        "id": "VWpdXoQ4MReT",
        "outputId": "bf061ea5-59ea-4854-eda5-a20769835268"
      },
      "execution_count": 3,
      "outputs": [
        {
          "output_type": "stream",
          "name": "stdout",
          "text": [
            "숫자를 맞추세요 (1 ~ 100): 35\n",
            "틀렸습니다. 더 작은 숫자 입니다.\n",
            "숫자를 맞추세요 (1 ~ 100): 45\n",
            "틀렸습니다. 더 작은 숫자 입니다.\n",
            "숫자를 맞추세요 (1 ~ 100): 55\n",
            "틀렸습니다. 더 작은 숫자 입니다.\n",
            "숫자를 맞추세요 (1 ~ 100): 50\n",
            "틀렸습니다. 더 작은 숫자 입니다.\n",
            "숫자를 맞추세요 (1 ~ 100): 10\n",
            "틀렸습니다. 더 큰 숫자 입니다.\n",
            "숫자를 맞추세요 (1 ~ 100): 20\n",
            "틀렸습니다. 더 작은 숫자 입니다.\n",
            "숫자를 맞추세요 (1 ~ 100): 15\n",
            "틀렸습니다. 더 작은 숫자 입니다.\n",
            "숫자를 맞추세요 (1 ~ 100): 14\n",
            "틀렸습니다. 더 작은 숫자 입니다.\n",
            "숫자를 맞추세요 (1 ~ 100): 13\n",
            "맞았습니다.\n"
          ]
        }
      ]
    },
    {
      "cell_type": "code",
      "source": [],
      "metadata": {
        "id": "CUph413IMU6m"
      },
      "execution_count": null,
      "outputs": []
    }
  ]
}
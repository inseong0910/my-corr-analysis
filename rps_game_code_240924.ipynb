{
  "nbformat": 4,
  "nbformat_minor": 0,
  "metadata": {
    "colab": {
      "provenance": [],
      "authorship_tag": "ABX9TyMQjWwrIRZTh21IKeSxZjlN",
      "include_colab_link": true
    },
    "kernelspec": {
      "name": "python3",
      "display_name": "Python 3"
    },
    "language_info": {
      "name": "python"
    }
  },
  "cells": [
    {
      "cell_type": "markdown",
      "metadata": {
        "id": "view-in-github",
        "colab_type": "text"
      },
      "source": [
        "<a href=\"https://colab.research.google.com/github/inseong0910/my_any_analysis/blob/main/rps_game_code_240924.ipynb\" target=\"_parent\"><img src=\"https://colab.research.google.com/assets/colab-badge.svg\" alt=\"Open In Colab\"/></a>"
      ]
    },
    {
      "cell_type": "markdown",
      "source": [
        "가위바위보 게임 파이썬 코드\n",
        "- 작성일 : 2024.9.24.\n",
        "- 작성자 : 황인성"
      ],
      "metadata": {
        "id": "KnReUPOpY6Ng"
      }
    },
    {
      "cell_type": "code",
      "source": [
        "# 1. 라이브러리 준비\n",
        "# 랜덤 모듈의 choice 함수를 이용\n",
        "import random\n",
        "computer = random.choice(['가위', '바위', '보'])"
      ],
      "metadata": {
        "id": "tBDJhMHIZCK6"
      },
      "execution_count": 5,
      "outputs": []
    },
    {
      "cell_type": "code",
      "source": [
        "# 2. player의 값을 입력 받기\n",
        "# input() 사용\n",
        "player = input('가위, 바위, 보 중 하나를 선택하세요 : ')"
      ],
      "metadata": {
        "colab": {
          "base_uri": "https://localhost:8080/"
        },
        "id": "fi-qtqYSZKaR",
        "outputId": "5b580428-15ed-4216-f5aa-548512ec81cf"
      },
      "execution_count": 6,
      "outputs": [
        {
          "name": "stdout",
          "output_type": "stream",
          "text": [
            "가위, 바위, 보 중 하나를 선택하세요 : 가위\n"
          ]
        }
      ]
    },
    {
      "cell_type": "code",
      "source": [
        "# 3. player와 computer가 입력한 결과를 보여주기\n",
        "# f string 이용\n",
        "print(f'플레이어 : {player}를 냈습니다.')\n",
        "print(f'컴퓨터 : {computer}를 냈습니다.')"
      ],
      "metadata": {
        "colab": {
          "base_uri": "https://localhost:8080/"
        },
        "id": "xFP615tUZKon",
        "outputId": "1bea68c9-06a0-44fe-fa79-e662b861449c"
      },
      "execution_count": 8,
      "outputs": [
        {
          "output_type": "stream",
          "name": "stdout",
          "text": [
            "플레이어 : 가위를 냈습니다.\n",
            "컴퓨터 : 바위를 냈습니다.\n"
          ]
        }
      ]
    },
    {
      "cell_type": "code",
      "source": [
        "# 4. if, elif를 사용하여 가위바위보 코드 구현\n",
        "# 일단 무승부 상황을 정의 후\n",
        "# player가 가위, 바위, 보를 내는 상황에 따라 결과를 정의\n",
        "if player == computer:\n",
        "    print('무승부')\n",
        "elif player == '가위':\n",
        "    if computer == '보':\n",
        "        print('플레이어 승')\n",
        "    else:\n",
        "        print('컴퓨터 승')\n",
        "elif player == '바위':\n",
        "    if computer == '가위':\n",
        "        print('플레이어 승')\n",
        "    else:\n",
        "        print('컴퓨터 승')\n",
        "elif player == '보':\n",
        "    if computer == '바위':\n",
        "        print('플레이어 승')\n",
        "    else:\n",
        "        print('컴퓨터 승')\n",
        "else:\n",
        "  print('잘못된 입력입니다.')"
      ],
      "metadata": {
        "colab": {
          "base_uri": "https://localhost:8080/"
        },
        "id": "sXOkA_QeZK5S",
        "outputId": "df613c0f-4220-404c-8903-ba31402248b4"
      },
      "execution_count": 9,
      "outputs": [
        {
          "output_type": "stream",
          "name": "stdout",
          "text": [
            "컴퓨터 승\n"
          ]
        }
      ]
    },
    {
      "cell_type": "code",
      "source": [
        "# 5. 조금 더 간편하게 구현해보기 : 딕셔너리 사용\n",
        "win_dict = {'가위':'보', '바위':'가위', '보':'바위'}\n",
        "\n",
        "player = input('가위, 바위, 보 중 하나를 선택하세요 : ')\n",
        "\n",
        "print(f'플레이어 : {player}를 냈습니다.')\n",
        "print(f'컴퓨터 : {computer}를 냈습니다.')\n",
        "\n",
        "if player not in win_dict:\n",
        "    print('잘못된 입력입니다.')\n",
        "elif player == computer:\n",
        "    print('무승부')\n",
        "elif win_dict[player] == computer:\n",
        "    print('플레이어 승')\n",
        "else:\n",
        "    print('컴퓨터 승')\n",
        "\n",
        "# 딕셔너리 방법 특) '이 경우에는 이게 이기는 거야~' 라고 미리 사전을 만들어서 그 사전에 있는지를 판단하는 방식으로 구현\n",
        "# 코드가 조금 간편하다는 장점이 있음"
      ],
      "metadata": {
        "colab": {
          "base_uri": "https://localhost:8080/"
        },
        "id": "mdg1AfrWZLbZ",
        "outputId": "d75be22b-8998-4e22-e4e1-c6f108c65dfd"
      },
      "execution_count": 11,
      "outputs": [
        {
          "output_type": "stream",
          "name": "stdout",
          "text": [
            "가위, 바위, 보 중 하나를 선택하세요 : 바위\n",
            "플레이어 : 바위를 냈습니다.\n",
            "컴퓨터 : 바위를 냈습니다.\n",
            "무승부\n"
          ]
        }
      ]
    },
    {
      "cell_type": "code",
      "source": [],
      "metadata": {
        "id": "U0wx1Rnfgjmx"
      },
      "execution_count": null,
      "outputs": []
    }
  ]
}